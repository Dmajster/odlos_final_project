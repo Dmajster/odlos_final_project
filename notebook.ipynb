{
 "cells": [
  {
   "cell_type": "markdown",
   "execution_count": null,
   "metadata": {},
   "outputs": [],
   "source": [
    "# 1. Priporočilni sistem: podatki in osnovno napovedovanje"
   ]
  },
  {
   "cell_type": "markdown",
   "execution_count": null,
   "metadata": {},
   "outputs": [],
   "source": [
    "## Branje Ocen"
   ]
  },
  {
   "cell_type": "code",
   "execution_count": 27,
   "metadata": {},
   "outputs": [
    {
     "name": "stdout",
     "output_type": "stream",
     "text": "855618\n72784\n"
    }
   ],
   "source": [
    "from UserItemData import UserItemData\n",
    "\n",
    "uim = UserItemData('data/user_ratedmovies.dat')\n",
    "print(uim.nratings())\n",
    "\n",
    "uim = UserItemData('data/user_ratedmovies.dat', from_date = '12.1.2007', to_date ='16.2.2008', min_ratings=100)\n",
    "print(uim.nratings())"
   ]
  },
  {
   "cell_type": "markdown",
   "execution_count": 7,
   "metadata": {},
   "outputs": [],
   "source": [
    "## Branje Filmov"
   ]
  },
  {
   "cell_type": "code",
   "execution_count": 28,
   "metadata": {},
   "outputs": [
    {
     "name": "stdout",
     "output_type": "stream",
     "text": "Toy story\n"
    }
   ],
   "source": [
    "from MovieData import MovieData\n",
    "\n",
    "md = MovieData('data/movies.dat')\n",
    "print(md.get_title(1))"
   ]
  },
  {
   "cell_type": "markdown",
   "execution_count": null,
   "metadata": {},
   "outputs": [],
   "source": [
    "## Naključni prediktor"
   ]
  },
  {
   "cell_type": "code",
   "execution_count": 29,
   "metadata": {},
   "outputs": [
    {
     "name": "stdout",
     "output_type": "stream",
     "text": "<class 'dict'>\nFilm: Toy story, ocena: 2\nFilm: Grumpy Old Men, ocena: 5\nFilm: Money Train, ocena: 3\nFilm: The Usual Suspects, ocena: 5\nFilm: City Hall, ocena: 1\n"
    }
   ],
   "source": [
    "from RandomPredictor import RandomPredictor\n",
    "\n",
    "md = MovieData('data/movies.dat')\n",
    "uim = UserItemData('data/user_ratedmovies.dat')\n",
    "rp = RandomPredictor(1, 5)\n",
    "rp.fit(uim)\n",
    "pred = rp.predict(78)\n",
    "print(type(pred))\n",
    "items = [1, 3, 20, 50, 100]\n",
    "for item in items:\n",
    "    print(\"Film: {}, ocena: {}\".format(md.get_title(item), pred[item]))"
   ]
  },
  {
   "cell_type": "markdown",
   "execution_count": null,
   "metadata": {},
   "outputs": [],
   "source": [
    "## Priporočanje "
   ]
  },
  {
   "cell_type": "code",
   "execution_count": 30,
   "metadata": {},
   "outputs": [
    {
     "name": "stdout",
     "output_type": "stream",
     "text": "Film: Judge Dredd, ocena: 5\nFilm: Beverly Hills Cop III, ocena: 5\nFilm: The Fifth Element, ocena: 5\nFilm: Honey, I Shrunk the Kids, ocena: 5\nFilm: The Negotiator, ocena: 5\n"
    }
   ],
   "source": [
    "from Recommender import Recommender\n",
    "\n",
    "md = MovieData('data/movies.dat')\n",
    "uim = UserItemData('data/user_ratedmovies.dat')\n",
    "rp = RandomPredictor(1, 5)\n",
    "rec = Recommender(rp)\n",
    "rec.fit(uim)\n",
    "rec_items = rec.recommend(78, n=5, rec_seen=False)\n",
    "for idmovie, val in rec_items:\n",
    "    print(\"Film: {}, ocena: {}\".format(md.get_title(idmovie), val))  "
   ]
  },
  {
   "cell_type": "markdown",
   "execution_count": null,
   "metadata": {},
   "outputs": [],
   "source": [
    "## Napovedovanje s povprečjem"
   ]
  },
  {
   "cell_type": "code",
   "execution_count": 31,
   "metadata": {},
   "outputs": [
    {
     "name": "stdout",
     "output_type": "stream",
     "text": "B = 0\nFilm: Brother Minister: The Assassination of Malcolm X, ocena: 5.0\nFilm: Synthetic Pleasures, ocena: 5.0\nFilm: Adam & Steve, ocena: 5.0\nFilm: Gabbeh, ocena: 5.0\nFilm: Eve and the Fire Horse, ocena: 5.0\nB = 100\nFilm: The Usual Suspects, ocena: 4.225945552737714\nFilm: The Godfather: Part II, ocena: 4.146909710399492\nFilm: Cidade de Deus, ocena: 4.116540436141492\nFilm: The Dark Knight, ocena: 4.104141687416753\nFilm: 12 Angry Men, ocena: 4.103642771000559\n"
    }
   ],
   "source": [
    "from AveragePredictor import AveragePredictor\n",
    "\n",
    "md = MovieData('data/movies.dat')\n",
    "uim = UserItemData('data/user_ratedmovies.dat')\n",
    "\n",
    "print(\"B = 0\")\n",
    "rp = AveragePredictor(0)\n",
    "rec = Recommender(rp)\n",
    "rec.fit(uim)\n",
    "rec_items = rec.recommend(78, n=5, rec_seen=False)\n",
    "for idmovie, val in rec_items:\n",
    "    print(\"Film: {}, ocena: {}\".format(md.get_title(idmovie), val))\n",
    "\n",
    "print(\"B = 100\")\n",
    "rp = AveragePredictor(100)\n",
    "rec = Recommender(rp)\n",
    "rec.fit(uim)\n",
    "rec_items = rec.recommend(78, n=5, rec_seen=False)\n",
    "for idmovie, val in rec_items:\n",
    "    print(\"Film: {}, ocena: {}\".format(md.get_title(idmovie), val))  "
   ]
  },
  {
   "cell_type": "markdown",
   "execution_count": null,
   "metadata": {},
   "outputs": [],
   "source": [
    "# 2. Priporočilni sistem: navodila za implementacijo skupinskega filtriranja"
   ]
  },
  {
   "cell_type": "markdown",
   "execution_count": null,
   "metadata": {},
   "outputs": [],
   "source": [
    "## Napovedovanje ocen s podobnostjo med produkti"
   ]
  },
  {
   "cell_type": "code",
   "execution_count": 32,
   "metadata": {},
   "outputs": [
    {
     "name": "stdout",
     "output_type": "stream",
     "text": "Podobnost med filmoma 'Men in black'(1580) in 'Ghostbusters'(2716):  0.2339552317675661\nPodobnost med filmoma 'Men in black'(1580) in 'Schindler's List'(527):  0\nPodobnost med filmoma 'Men in black'(1580) in 'Independence day'(780):  0.42466125844687547\n"
    }
   ],
   "source": [
    "from ItemBasedPredictor import ItemBasedPredictor\n",
    "\n",
    "md = MovieData('data/movies.dat')\n",
    "uim = UserItemData('data/user_ratedmovies.dat', min_ratings=1000)\n",
    "rp = ItemBasedPredictor()\n",
    "rec = Recommender(rp)\n",
    "rec.fit(uim)\n",
    "print(\"Podobnost med filmoma 'Men in black'(1580) in 'Ghostbusters'(2716): \", rp.similarity(1580, 2716))\n",
    "print(\"Podobnost med filmoma 'Men in black'(1580) in 'Schindler's List'(527): \", rp.similarity(1580, 527))\n",
    "print(\"Podobnost med filmoma 'Men in black'(1580) in 'Independence day'(780): \", rp.similarity(1580, 780))"
   ]
  },
  {
   "cell_type": "code",
   "execution_count": 33,
   "metadata": {},
   "outputs": [
    {
     "name": "stdout",
     "output_type": "stream",
     "text": "Predictions for 78: \nFilm: Shichinin no samurai, ocena: 4.35573479031016\nFilm: The Usual Suspects, ocena: 4.354681728067837\nFilm: The Silence of the Lambs, ocena: 4.335305303472518\nFilm: Sin City, ocena: 4.278687166899103\nFilm: Monsters, Inc., ocena: 4.21758113694352\nFilm: The Incredibles, ocena: 4.2070985832817485\nFilm: The Lord of the Rings: The Fellowship of the Ring, ocena: 4.15269571981645\nFilm: Batman Begins, ocena: 4.146413806700199\nFilm: Die Hard, ocena: 4.125915602232819\nFilm: Rain Man, ocena: 4.071535242958551\nFilm: The Lord of the Rings: The Return of the King, ocena: 4.020141086908333\nFilm: A Beautiful Mind, ocena: 4.0151424900648385\nFilm: Good Will Hunting, ocena: 4.0092808069228205\nFilm: The Lord of the Rings: The Two Towers, ocena: 3.941367377236309\nFilm: Indiana Jones and the Last Crusade, ocena: 3.7969764963789236\n"
    }
   ],
   "source": [
    "print(\"Predictions for 78: \")\n",
    "rec_items = rec.recommend(78, n=15, rec_seen=False)\n",
    "for idmovie, val in rec_items:\n",
    "    print(\"Film: {}, ocena: {}\".format(md.get_title(idmovie), val))"
   ]
  },
  {
   "cell_type": "markdown",
   "execution_count": null,
   "metadata": {},
   "outputs": [],
   "source": [
    "## Najbolj podobni filmi"
   ]
  },
  {
   "cell_type": "code",
   "execution_count": 34,
   "metadata": {},
   "outputs": [
    {
     "name": "stdout",
     "output_type": "stream",
     "text": "Film1: The Lord of the Rings: The Two Towers, Film2: The Lord of the Rings: The Return of the King, Similarity: 0.8440337189296883\nFilm1: The Lord of the Rings: The Return of the King, Film2: The Lord of the Rings: The Two Towers, Similarity: 0.8440337189296883\nFilm1: The Lord of the Rings: The Fellowship of the Ring, Film2: The Lord of the Rings: The Two Towers, Similarity: 0.8232418547939121\nFilm1: The Lord of the Rings: The Two Towers, Film2: The Lord of the Rings: The Fellowship of the Ring, Similarity: 0.8232418547939121\nFilm1: The Lord of the Rings: The Fellowship of the Ring, Film2: The Lord of the Rings: The Return of the King, Similarity: 0.8079973529327527\nFilm1: The Lord of the Rings: The Return of the King, Film2: The Lord of the Rings: The Fellowship of the Ring, Similarity: 0.8079973529327527\nFilm1: Kill Bill: Vol. 2, Film2: Kill Bill: Vol. 2, Similarity: 0.7372340224381033\nFilm1: Kill Bill: Vol. 2, Film2: Kill Bill: Vol. 2, Similarity: 0.7372340224381033\nFilm1: Star Wars, Film2: Star Wars: Episode V - The Empire Strikes Back, Similarity: 0.7021321132220316\nFilm1: Star Wars: Episode V - The Empire Strikes Back, Film2: Star Wars, Similarity: 0.7021321132220316\nFilm1: Ace Ventura: Pet Detective, Film2: The Mask, Similarity: 0.6615767938998716\nFilm1: The Mask, Film2: Ace Ventura: Pet Detective, Similarity: 0.6615767938998716\nFilm1: Star Wars: Episode V - The Empire Strikes Back, Film2: Star Wars: Episode VI - Return of the Jedi, Similarity: 0.5992253753778951\nFilm1: Star Wars: Episode VI - Return of the Jedi, Film2: Star Wars: Episode V - The Empire Strikes Back, Similarity: 0.5992253753778951\nFilm1: Independence Day, Film2: Star Wars: Episode I - The Phantom Menace, Similarity: 0.5610426219249982\nFilm1: Star Wars: Episode I - The Phantom Menace, Film2: Independence Day, Similarity: 0.5610426219249982\nFilm1: Ace Ventura: Pet Detective, Film2: Austin Powers: The Spy Who Shagged Me, Similarity: 0.5546511205201548\nFilm1: Austin Powers: The Spy Who Shagged Me, Film2: Ace Ventura: Pet Detective, Similarity: 0.5546511205201548\nFilm1: Star Wars, Film2: Star Wars: Episode VI - Return of the Jedi, Similarity: 0.5537849318137374\nFilm1: Star Wars: Episode VI - Return of the Jedi, Film2: Star Wars, Similarity: 0.5537849318137374\n"
    }
   ],
   "source": [
    "top_similar = rp.similarities.stack().nlargest(20)\n",
    "top_similar_keys = top_similar.index.tolist()\n",
    "top_similar_value = top_similar.tolist()\n",
    "\n",
    "for keys, value in zip(top_similar_keys, top_similar_value):\n",
    "    print(\"Film1: {}, Film2: {}, Similarity: {}\".format(md.get_title(keys[0]), md.get_title(keys[1]), value))"
   ]
  },
  {
   "cell_type": "markdown",
   "execution_count": null,
   "metadata": {},
   "outputs": [],
   "source": [
    "## Priporočanje glede na trenutno ogledano vsebino"
   ]
  },
  {
   "cell_type": "code",
   "execution_count": 35,
   "metadata": {},
   "outputs": [
    {
     "name": "stdout",
     "output_type": "stream",
     "text": "Filmi podobni \"The Lord of the Rings: The Fellowship of the Ring\": \nFilm: The Lord of the Rings: The Two Towers, ocena: 0.8232418547939121\nFilm: The Lord of the Rings: The Return of the King, ocena: 0.8079973529327527\nFilm: Star Wars: Episode V - The Empire Strikes Back, ocena: 0.23961943073496453\nFilm: Star Wars, ocena: 0.21965586527074088\nFilm: The Matrix, ocena: 0.2151555270688026\nFilm: Raiders of the Lost Ark, ocena: 0.19944276706345052\nFilm: The Usual Suspects, ocena: 0.18321188451910767\nFilm: Blade Runner, ocena: 0.1635587004690409\nFilm: Schindler's List, ocena: 0.16144087032368976\nFilm: Monty Python and the Holy Grail, ocena: 0.15780453798519137\n"
    }
   ],
   "source": [
    "rec_items = rp.similarItems(4993, 10)\n",
    "print('Filmi podobni \"The Lord of the Rings: The Fellowship of the Ring\": ')\n",
    "for idmovie, val in rec_items.items():\n",
    "    print(\"Film: {}, ocena: {}\".format(md.get_title(idmovie), val))"
   ]
  },
  {
   "cell_type": "markdown",
   "execution_count": null,
   "metadata": {},
   "outputs": [],
   "source": [
    "## Priporočilo zase"
   ]
  },
  {
   "cell_type": "code",
   "execution_count": 36,
   "metadata": {},
   "outputs": [
    {
     "ename": "SyntaxError",
     "evalue": "invalid syntax (<ipython-input-36-fb6417b38165>, line 1)",
     "output_type": "error",
     "traceback": [
      "\u001b[1;36m  File \u001b[1;32m\"<ipython-input-36-fb6417b38165>\"\u001b[1;36m, line \u001b[1;32m1\u001b[0m\n\u001b[1;33m    80000\t1\t3.5\t10\t1\t2020\t21\t13\t42\u001b[0m\n\u001b[1;37m         \t^\u001b[0m\n\u001b[1;31mSyntaxError\u001b[0m\u001b[1;31m:\u001b[0m invalid syntax\n"
     ]
    }
   ],
   "source": [
    "'''\n",
    "80000\t1\t3.5\t10\t1\t2020\t21\t13\t42\n",
    "80000\t10\t3\t10\t1\t2020\t21\t13\t42\n",
    "80000\t44\t4\t10\t1\t2020\t21\t13\t42\n",
    "80000\t145\t3.5\t10\t1\t2020\t21\t13\t42\n",
    "80000\t231\t4\t10\t1\t2020\t21\t13\t42\n",
    "80000\t318\t5\t10\t1\t2020\t21\t13\t42\n",
    "80000\t344\t4\t10\t1\t2020\t21\t13\t42\n",
    "80000\t356\t4\t10\t1\t2020\t21\t13\t42\n",
    "80000\t367\t4.5\t10\t1\t2020\t21\t13\t42\n",
    "80000\t480\t4.5\t10\t1\t2020\t21\t13\t42\n",
    "80000\t527\t5\t10\t1\t2020\t21\t13\t42\n",
    "80000\t541\t4\t10\t1\t2020\t21\t13\t42\n",
    "80000\t589\t4\t10\t1\t2020\t21\t13\t42\n",
    "80000\t631\t3\t10\t1\t2020\t21\t13\t42\n",
    "80000\t761\t2.5\t10\t1\t2020\t21\t13\t42\n",
    "80000\t924\t5\t10\t1\t2020\t21\t13\t42\n",
    "80000\t7153\t5\t10\t1\t2020\t21\t13\t42\n",
    "80000\t4993\t5\t10\t1\t2020\t21\t13\t42\n",
    "80000\t5952\t5\t10\t1\t2020\t21\t13\t42\n",
    "80000\t25934\t5\t10\t1\t2020\t21\t13\t42\n",
    "'''"
   ]
  },
  {
   "cell_type": "markdown",
   "execution_count": null,
   "metadata": {},
   "outputs": [],
   "source": [
    "## Napovedovanje z metodo Slope one"
   ]
  },
  {
   "cell_type": "code",
   "execution_count": 42,
   "metadata": {},
   "outputs": [
    {
     "name": "stdout",
     "output_type": "stream",
     "text": "Predictions for 78: \n"
    },
    {
     "ename": "IndexError",
     "evalue": "list index out of range",
     "output_type": "error",
     "traceback": [
      "\u001b[1;31m---------------------------------------------------------------------------\u001b[0m",
      "\u001b[1;31mIndexError\u001b[0m                                Traceback (most recent call last)",
      "\u001b[1;32m<ipython-input-42-f532a8adb90d>\u001b[0m in \u001b[0;36m<module>\u001b[1;34m\u001b[0m\n\u001b[0;32m     13\u001b[0m \u001b[1;33m\u001b[0m\u001b[0m\n\u001b[0;32m     14\u001b[0m \u001b[0mprint\u001b[0m\u001b[1;33m(\u001b[0m\u001b[1;34m\"Predictions for 78: \"\u001b[0m\u001b[1;33m)\u001b[0m\u001b[1;33m\u001b[0m\u001b[1;33m\u001b[0m\u001b[0m\n\u001b[1;32m---> 15\u001b[1;33m \u001b[0mrec_items\u001b[0m \u001b[1;33m=\u001b[0m \u001b[0mrec\u001b[0m\u001b[1;33m.\u001b[0m\u001b[0mrecommend\u001b[0m\u001b[1;33m(\u001b[0m\u001b[1;36m78\u001b[0m\u001b[1;33m,\u001b[0m \u001b[0mn\u001b[0m\u001b[1;33m=\u001b[0m\u001b[1;36m15\u001b[0m\u001b[1;33m,\u001b[0m \u001b[0mrec_seen\u001b[0m\u001b[1;33m=\u001b[0m\u001b[1;32mFalse\u001b[0m\u001b[1;33m)\u001b[0m\u001b[1;33m\u001b[0m\u001b[1;33m\u001b[0m\u001b[0m\n\u001b[0m\u001b[0;32m     16\u001b[0m \u001b[1;32mfor\u001b[0m \u001b[0midmovie\u001b[0m\u001b[1;33m,\u001b[0m \u001b[0mval\u001b[0m \u001b[1;32min\u001b[0m \u001b[0mrec_items\u001b[0m\u001b[1;33m:\u001b[0m\u001b[1;33m\u001b[0m\u001b[1;33m\u001b[0m\u001b[0m\n\u001b[0;32m     17\u001b[0m     \u001b[0mprint\u001b[0m\u001b[1;33m(\u001b[0m\u001b[1;34m\"Film: {}, ocena: {}\"\u001b[0m\u001b[1;33m.\u001b[0m\u001b[0mformat\u001b[0m\u001b[1;33m(\u001b[0m\u001b[0mmd\u001b[0m\u001b[1;33m.\u001b[0m\u001b[0mget_title\u001b[0m\u001b[1;33m(\u001b[0m\u001b[0midmovie\u001b[0m\u001b[1;33m)\u001b[0m\u001b[1;33m,\u001b[0m \u001b[0mval\u001b[0m\u001b[1;33m)\u001b[0m\u001b[1;33m)\u001b[0m\u001b[1;33m\u001b[0m\u001b[1;33m\u001b[0m\u001b[0m\n",
      "\u001b[1;32mc:\\Users\\domen\\repositories\\odlos_final_project\\Recommender.py\u001b[0m in \u001b[0;36mrecommend\u001b[1;34m(self, user_id, n, rec_seen)\u001b[0m\n\u001b[0;32m     27\u001b[0m         \u001b[0mchecked_prediction_index\u001b[0m \u001b[1;33m=\u001b[0m \u001b[1;36m0\u001b[0m\u001b[1;33m\u001b[0m\u001b[1;33m\u001b[0m\u001b[0m\n\u001b[0;32m     28\u001b[0m         \u001b[1;32mwhile\u001b[0m \u001b[0mlen\u001b[0m\u001b[1;33m(\u001b[0m\u001b[0mrecommended_list\u001b[0m\u001b[1;33m)\u001b[0m \u001b[1;33m<\u001b[0m \u001b[0mn\u001b[0m \u001b[1;33m&\u001b[0m \u001b[0mchecked_prediction_index\u001b[0m \u001b[1;33m<\u001b[0m \u001b[0mlen\u001b[0m\u001b[1;33m(\u001b[0m\u001b[0mprediction_list\u001b[0m\u001b[1;33m)\u001b[0m\u001b[1;33m:\u001b[0m\u001b[1;33m\u001b[0m\u001b[1;33m\u001b[0m\u001b[0m\n\u001b[1;32m---> 29\u001b[1;33m             \u001b[0mmovie_rating_pair\u001b[0m \u001b[1;33m=\u001b[0m \u001b[0mprediction_list\u001b[0m\u001b[1;33m[\u001b[0m\u001b[0mchecked_prediction_index\u001b[0m\u001b[1;33m]\u001b[0m\u001b[1;33m\u001b[0m\u001b[1;33m\u001b[0m\u001b[0m\n\u001b[0m\u001b[0;32m     30\u001b[0m             \u001b[0mmovie_id\u001b[0m \u001b[1;33m=\u001b[0m \u001b[0mmovie_rating_pair\u001b[0m\u001b[1;33m[\u001b[0m\u001b[1;36m0\u001b[0m\u001b[1;33m]\u001b[0m\u001b[1;33m\u001b[0m\u001b[1;33m\u001b[0m\u001b[0m\n\u001b[0;32m     31\u001b[0m             \u001b[1;32mif\u001b[0m \u001b[0mmovie_id\u001b[0m \u001b[1;32mnot\u001b[0m \u001b[1;32min\u001b[0m \u001b[0malready_seen_list\u001b[0m\u001b[1;33m.\u001b[0m\u001b[0mvalues\u001b[0m\u001b[1;33m:\u001b[0m\u001b[1;33m\u001b[0m\u001b[1;33m\u001b[0m\u001b[0m\n",
      "\u001b[1;31mIndexError\u001b[0m: list index out of range"
     ]
    }
   ],
   "source": [
    "from UserItemData import UserItemData \n",
    "from MovieData import MovieData\n",
    "\n",
    "md = MovieData('data/movies.dat')\n",
    "uim = UserItemData('data/user_ratedmovies.dat', min_ratings=1000)\n",
    "\n",
    "from SlopeOnePredictor import SlopeOnePredictor\n",
    "from Recommender import Recommender\n",
    "\n",
    "rp = SlopeOnePredictor()\n",
    "rec = Recommender(rp)\n",
    "rec.fit(uim)\n",
    "\n",
    "print(\"Predictions for 78: \")\n",
    "rec_items = rec.recommend(78, n=15, rec_seen=False)\n",
    "for idmovie, val in rec_items:\n",
    "    print(\"Film: {}, ocena: {}\".format(md.get_title(idmovie), val))"
   ]
  },
  {
   "cell_type": "code",
   "execution_count": 43,
   "metadata": {},
   "outputs": [
    {
     "ename": "TypeError",
     "evalue": "__init__() got an unexpected keyword argument 'end_date'",
     "output_type": "error",
     "traceback": [
      "\u001b[1;31m---------------------------------------------------------------------------\u001b[0m",
      "\u001b[1;31mTypeError\u001b[0m                                 Traceback (most recent call last)",
      "\u001b[1;32m<ipython-input-43-faf9496bb200>\u001b[0m in \u001b[0;36m<module>\u001b[1;34m\u001b[0m\n\u001b[0;32m      1\u001b[0m \u001b[0mmd\u001b[0m \u001b[1;33m=\u001b[0m \u001b[0mMovieData\u001b[0m\u001b[1;33m(\u001b[0m\u001b[1;34m'data/movies.dat'\u001b[0m\u001b[1;33m)\u001b[0m\u001b[1;33m\u001b[0m\u001b[1;33m\u001b[0m\u001b[0m\n\u001b[1;32m----> 2\u001b[1;33m \u001b[0muim\u001b[0m \u001b[1;33m=\u001b[0m \u001b[0mUserItemData\u001b[0m\u001b[1;33m(\u001b[0m\u001b[1;34m'data/user_ratedmovies.dat'\u001b[0m\u001b[1;33m,\u001b[0m \u001b[0mmin_ratings\u001b[0m\u001b[1;33m=\u001b[0m\u001b[1;36m1000\u001b[0m\u001b[1;33m,\u001b[0m \u001b[0mend_date\u001b[0m\u001b[1;33m=\u001b[0m\u001b[1;34m'1.1.2008'\u001b[0m\u001b[1;33m)\u001b[0m\u001b[1;33m\u001b[0m\u001b[1;33m\u001b[0m\u001b[0m\n\u001b[0m\u001b[0;32m      3\u001b[0m \u001b[0mrp\u001b[0m \u001b[1;33m=\u001b[0m \u001b[0mItemBasedPredictor\u001b[0m\u001b[1;33m(\u001b[0m\u001b[1;33m)\u001b[0m\u001b[1;33m\u001b[0m\u001b[1;33m\u001b[0m\u001b[0m\n\u001b[0;32m      4\u001b[0m \u001b[0mrec\u001b[0m \u001b[1;33m=\u001b[0m \u001b[0mRecommender\u001b[0m\u001b[1;33m(\u001b[0m\u001b[0mrp\u001b[0m\u001b[1;33m)\u001b[0m\u001b[1;33m\u001b[0m\u001b[1;33m\u001b[0m\u001b[0m\n\u001b[0;32m      5\u001b[0m \u001b[0mrec\u001b[0m\u001b[1;33m.\u001b[0m\u001b[0mfit\u001b[0m\u001b[1;33m(\u001b[0m\u001b[0muim\u001b[0m\u001b[1;33m)\u001b[0m\u001b[1;33m\u001b[0m\u001b[1;33m\u001b[0m\u001b[0m\n",
      "\u001b[1;31mTypeError\u001b[0m: __init__() got an unexpected keyword argument 'end_date'"
     ]
    }
   ],
   "source": [
    "md = MovieData('data/movies.dat')\n",
    "uim = UserItemData('data/user_ratedmovies.dat', min_ratings=1000, end_date='1.1.2008')\n",
    "rp = ItemBasedPredictor()\n",
    "rec = Recommender(rp)\n",
    "rec.fit(uim)\n",
    "\n",
    "uim_test = UserItemData('data/user_ratedmovies.dat', min_ratings=200, start_date='2.1.2008')\n",
    "mse, mae, precision, recall, f = rec.evaluate(uim_test, 20)\n",
    "print(mse, mae, precision, recall, f)"
   ]
  },
  {
   "cell_type": "code",
   "execution_count": null,
   "metadata": {},
   "outputs": [],
   "source": []
  }
 ],
 "metadata": {
  "kernelspec": {
   "display_name": "Python 3",
   "language": "python",
   "name": "python3"
  },
  "language_info": {
   "codemirror_mode": {
    "name": "ipython",
    "version": 3
   },
   "file_extension": ".py",
   "mimetype": "text/x-python",
   "name": "python",
   "nbconvert_exporter": "python",
   "pygments_lexer": "ipython3",
   "version": "3.8.0-final"
  }
 },
 "nbformat": 4,
 "nbformat_minor": 4
}